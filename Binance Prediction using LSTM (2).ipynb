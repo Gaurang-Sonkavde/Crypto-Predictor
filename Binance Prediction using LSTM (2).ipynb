{
 "cells": [
  {
   "cell_type": "markdown",
   "metadata": {},
   "source": [
    "# Name- Gaurang Sonkavde    M.Tech 1st Year"
   ]
  },
  {
   "cell_type": "markdown",
   "metadata": {},
   "source": [
    "### Stock Market Prediction And Forecasting Using Stacked LSTM"
   ]
  },
  {
   "cell_type": "markdown",
   "metadata": {},
   "source": [
    "### GitHub Link - https://github.com/Gaurang-Sonkavde/Crypto-Predictor"
   ]
  },
  {
   "cell_type": "markdown",
   "metadata": {},
   "source": [
    "### Raw Data"
   ]
  },
  {
   "cell_type": "code",
   "execution_count": 2,
   "metadata": {},
   "outputs": [],
   "source": [
    "### Data Collection\n",
    "import os\n",
    "import pandas as pd\n",
    "import os\n",
    "import matplotlib as mpl\n",
    "import matplotlib.pyplot as plt\n",
    "import numpy as np\n",
    "import streamlit as st\n",
    "import datetime\n",
    "import tensorflow as tf\n",
    "from datetime import datetime\n",
    "from datetime import date\n",
    "import pandas as pd"
   ]
  },
  {
   "cell_type": "code",
   "execution_count": 3,
   "metadata": {},
   "outputs": [],
   "source": [
    "os.chdir(r'C:\\Users\\gaura\\Downloads')"
   ]
  },
  {
   "cell_type": "code",
   "execution_count": 4,
   "metadata": {},
   "outputs": [],
   "source": [
    "dft= pd.read_csv('Binance Coin - Historic data.csv',)"
   ]
  },
  {
   "cell_type": "code",
   "execution_count": 5,
   "metadata": {},
   "outputs": [
    {
     "data": {
      "text/html": [
       "<div>\n",
       "<style scoped>\n",
       "    .dataframe tbody tr th:only-of-type {\n",
       "        vertical-align: middle;\n",
       "    }\n",
       "\n",
       "    .dataframe tbody tr th {\n",
       "        vertical-align: top;\n",
       "    }\n",
       "\n",
       "    .dataframe thead th {\n",
       "        text-align: right;\n",
       "    }\n",
       "</style>\n",
       "<table border=\"1\" class=\"dataframe\">\n",
       "  <thead>\n",
       "    <tr style=\"text-align: right;\">\n",
       "      <th></th>\n",
       "      <th>Date</th>\n",
       "      <th>Price(in dollars)</th>\n",
       "      <th>Open</th>\n",
       "      <th>High</th>\n",
       "      <th>Low</th>\n",
       "      <th>Vol.</th>\n",
       "      <th>Change%</th>\n",
       "    </tr>\n",
       "  </thead>\n",
       "  <tbody>\n",
       "    <tr>\n",
       "      <th>0</th>\n",
       "      <td>Jul 27, 2021</td>\n",
       "      <td>303.29</td>\n",
       "      <td>304.31</td>\n",
       "      <td>307.62</td>\n",
       "      <td>298.53</td>\n",
       "      <td>2.26M</td>\n",
       "      <td>-0.33</td>\n",
       "    </tr>\n",
       "    <tr>\n",
       "      <th>1</th>\n",
       "      <td>Jul 26, 2021</td>\n",
       "      <td>304.31</td>\n",
       "      <td>302.60</td>\n",
       "      <td>327.62</td>\n",
       "      <td>301.19</td>\n",
       "      <td>2.86M</td>\n",
       "      <td>0.58</td>\n",
       "    </tr>\n",
       "    <tr>\n",
       "      <th>2</th>\n",
       "      <td>Jul 25, 2021</td>\n",
       "      <td>302.57</td>\n",
       "      <td>302.55</td>\n",
       "      <td>303.09</td>\n",
       "      <td>292.85</td>\n",
       "      <td>1.25M</td>\n",
       "      <td>-0.19</td>\n",
       "    </tr>\n",
       "    <tr>\n",
       "      <th>3</th>\n",
       "      <td>Jul 24, 2021</td>\n",
       "      <td>303.15</td>\n",
       "      <td>298.91</td>\n",
       "      <td>305.01</td>\n",
       "      <td>296.16</td>\n",
       "      <td>1.81M</td>\n",
       "      <td>1.42</td>\n",
       "    </tr>\n",
       "    <tr>\n",
       "      <th>4</th>\n",
       "      <td>Jul 23, 2021</td>\n",
       "      <td>298.89</td>\n",
       "      <td>293.51</td>\n",
       "      <td>301.15</td>\n",
       "      <td>281.68</td>\n",
       "      <td>1.98M</td>\n",
       "      <td>1.83</td>\n",
       "    </tr>\n",
       "  </tbody>\n",
       "</table>\n",
       "</div>"
      ],
      "text/plain": [
       "           Date  Price(in dollars)    Open    High     Low   Vol.  Change%\n",
       "0  Jul 27, 2021             303.29  304.31  307.62  298.53  2.26M    -0.33\n",
       "1  Jul 26, 2021             304.31  302.60  327.62  301.19  2.86M     0.58\n",
       "2  Jul 25, 2021             302.57  302.55  303.09  292.85  1.25M    -0.19\n",
       "3  Jul 24, 2021             303.15  298.91  305.01  296.16  1.81M     1.42\n",
       "4  Jul 23, 2021             298.89  293.51  301.15  281.68  1.98M     1.83"
      ]
     },
     "execution_count": 5,
     "metadata": {},
     "output_type": "execute_result"
    }
   ],
   "source": [
    "dft.head()"
   ]
  },
  {
   "cell_type": "code",
   "execution_count": 6,
   "metadata": {},
   "outputs": [
    {
     "data": {
      "text/html": [
       "<div>\n",
       "<style scoped>\n",
       "    .dataframe tbody tr th:only-of-type {\n",
       "        vertical-align: middle;\n",
       "    }\n",
       "\n",
       "    .dataframe tbody tr th {\n",
       "        vertical-align: top;\n",
       "    }\n",
       "\n",
       "    .dataframe thead th {\n",
       "        text-align: right;\n",
       "    }\n",
       "</style>\n",
       "<table border=\"1\" class=\"dataframe\">\n",
       "  <thead>\n",
       "    <tr style=\"text-align: right;\">\n",
       "      <th></th>\n",
       "      <th>Date</th>\n",
       "      <th>Price(in dollars)</th>\n",
       "      <th>Open</th>\n",
       "      <th>High</th>\n",
       "      <th>Low</th>\n",
       "      <th>Vol.</th>\n",
       "      <th>Change%</th>\n",
       "    </tr>\n",
       "  </thead>\n",
       "  <tbody>\n",
       "    <tr>\n",
       "      <th>1352</th>\n",
       "      <td>Nov 13, 2017</td>\n",
       "      <td>1.68</td>\n",
       "      <td>1.49</td>\n",
       "      <td>1.74</td>\n",
       "      <td>1.49</td>\n",
       "      <td>166.01K</td>\n",
       "      <td>12.75</td>\n",
       "    </tr>\n",
       "    <tr>\n",
       "      <th>1353</th>\n",
       "      <td>Nov 12, 2017</td>\n",
       "      <td>1.49</td>\n",
       "      <td>1.66</td>\n",
       "      <td>1.70</td>\n",
       "      <td>1.34</td>\n",
       "      <td>456.48K</td>\n",
       "      <td>-10.24</td>\n",
       "    </tr>\n",
       "    <tr>\n",
       "      <th>1354</th>\n",
       "      <td>Nov 11, 2017</td>\n",
       "      <td>1.66</td>\n",
       "      <td>1.71</td>\n",
       "      <td>1.93</td>\n",
       "      <td>1.58</td>\n",
       "      <td>256.71K</td>\n",
       "      <td>-2.92</td>\n",
       "    </tr>\n",
       "    <tr>\n",
       "      <th>1355</th>\n",
       "      <td>Nov 10, 2017</td>\n",
       "      <td>1.71</td>\n",
       "      <td>1.99</td>\n",
       "      <td>2.02</td>\n",
       "      <td>1.60</td>\n",
       "      <td>483.23K</td>\n",
       "      <td>-14.07</td>\n",
       "    </tr>\n",
       "    <tr>\n",
       "      <th>1356</th>\n",
       "      <td>Nov 09, 2017</td>\n",
       "      <td>1.99</td>\n",
       "      <td>1.99</td>\n",
       "      <td>2.20</td>\n",
       "      <td>1.90</td>\n",
       "      <td>283.35K</td>\n",
       "      <td>0.00</td>\n",
       "    </tr>\n",
       "  </tbody>\n",
       "</table>\n",
       "</div>"
      ],
      "text/plain": [
       "              Date  Price(in dollars)  Open  High   Low     Vol.  Change%\n",
       "1352  Nov 13, 2017               1.68  1.49  1.74  1.49  166.01K    12.75\n",
       "1353  Nov 12, 2017               1.49  1.66  1.70  1.34  456.48K   -10.24\n",
       "1354  Nov 11, 2017               1.66  1.71  1.93  1.58  256.71K    -2.92\n",
       "1355  Nov 10, 2017               1.71  1.99  2.02  1.60  483.23K   -14.07\n",
       "1356  Nov 09, 2017               1.99  1.99  2.20  1.90  283.35K     0.00"
      ]
     },
     "execution_count": 6,
     "metadata": {},
     "output_type": "execute_result"
    }
   ],
   "source": [
    "dft.tail()"
   ]
  },
  {
   "cell_type": "code",
   "execution_count": 7,
   "metadata": {},
   "outputs": [
    {
     "data": {
      "text/html": [
       "<div>\n",
       "<style scoped>\n",
       "    .dataframe tbody tr th:only-of-type {\n",
       "        vertical-align: middle;\n",
       "    }\n",
       "\n",
       "    .dataframe tbody tr th {\n",
       "        vertical-align: top;\n",
       "    }\n",
       "\n",
       "    .dataframe thead th {\n",
       "        text-align: right;\n",
       "    }\n",
       "</style>\n",
       "<table border=\"1\" class=\"dataframe\">\n",
       "  <thead>\n",
       "    <tr style=\"text-align: right;\">\n",
       "      <th></th>\n",
       "      <th>Date</th>\n",
       "      <th>Price(in dollars)</th>\n",
       "      <th>Open</th>\n",
       "      <th>High</th>\n",
       "      <th>Low</th>\n",
       "      <th>Vol.</th>\n",
       "      <th>Change%</th>\n",
       "    </tr>\n",
       "  </thead>\n",
       "  <tbody>\n",
       "    <tr>\n",
       "      <th>0</th>\n",
       "      <td>Jul 27, 2021</td>\n",
       "      <td>303.29</td>\n",
       "      <td>304.31</td>\n",
       "      <td>307.62</td>\n",
       "      <td>298.53</td>\n",
       "      <td>2.26M</td>\n",
       "      <td>-0.33</td>\n",
       "    </tr>\n",
       "    <tr>\n",
       "      <th>1</th>\n",
       "      <td>Jul 26, 2021</td>\n",
       "      <td>304.31</td>\n",
       "      <td>302.60</td>\n",
       "      <td>327.62</td>\n",
       "      <td>301.19</td>\n",
       "      <td>2.86M</td>\n",
       "      <td>0.58</td>\n",
       "    </tr>\n",
       "    <tr>\n",
       "      <th>2</th>\n",
       "      <td>Jul 25, 2021</td>\n",
       "      <td>302.57</td>\n",
       "      <td>302.55</td>\n",
       "      <td>303.09</td>\n",
       "      <td>292.85</td>\n",
       "      <td>1.25M</td>\n",
       "      <td>-0.19</td>\n",
       "    </tr>\n",
       "    <tr>\n",
       "      <th>3</th>\n",
       "      <td>Jul 24, 2021</td>\n",
       "      <td>303.15</td>\n",
       "      <td>298.91</td>\n",
       "      <td>305.01</td>\n",
       "      <td>296.16</td>\n",
       "      <td>1.81M</td>\n",
       "      <td>1.42</td>\n",
       "    </tr>\n",
       "    <tr>\n",
       "      <th>4</th>\n",
       "      <td>Jul 23, 2021</td>\n",
       "      <td>298.89</td>\n",
       "      <td>293.51</td>\n",
       "      <td>301.15</td>\n",
       "      <td>281.68</td>\n",
       "      <td>1.98M</td>\n",
       "      <td>1.83</td>\n",
       "    </tr>\n",
       "    <tr>\n",
       "      <th>...</th>\n",
       "      <td>...</td>\n",
       "      <td>...</td>\n",
       "      <td>...</td>\n",
       "      <td>...</td>\n",
       "      <td>...</td>\n",
       "      <td>...</td>\n",
       "      <td>...</td>\n",
       "    </tr>\n",
       "    <tr>\n",
       "      <th>1352</th>\n",
       "      <td>Nov 13, 2017</td>\n",
       "      <td>1.68</td>\n",
       "      <td>1.49</td>\n",
       "      <td>1.74</td>\n",
       "      <td>1.49</td>\n",
       "      <td>166.01K</td>\n",
       "      <td>12.75</td>\n",
       "    </tr>\n",
       "    <tr>\n",
       "      <th>1353</th>\n",
       "      <td>Nov 12, 2017</td>\n",
       "      <td>1.49</td>\n",
       "      <td>1.66</td>\n",
       "      <td>1.70</td>\n",
       "      <td>1.34</td>\n",
       "      <td>456.48K</td>\n",
       "      <td>-10.24</td>\n",
       "    </tr>\n",
       "    <tr>\n",
       "      <th>1354</th>\n",
       "      <td>Nov 11, 2017</td>\n",
       "      <td>1.66</td>\n",
       "      <td>1.71</td>\n",
       "      <td>1.93</td>\n",
       "      <td>1.58</td>\n",
       "      <td>256.71K</td>\n",
       "      <td>-2.92</td>\n",
       "    </tr>\n",
       "    <tr>\n",
       "      <th>1355</th>\n",
       "      <td>Nov 10, 2017</td>\n",
       "      <td>1.71</td>\n",
       "      <td>1.99</td>\n",
       "      <td>2.02</td>\n",
       "      <td>1.60</td>\n",
       "      <td>483.23K</td>\n",
       "      <td>-14.07</td>\n",
       "    </tr>\n",
       "    <tr>\n",
       "      <th>1356</th>\n",
       "      <td>Nov 09, 2017</td>\n",
       "      <td>1.99</td>\n",
       "      <td>1.99</td>\n",
       "      <td>2.20</td>\n",
       "      <td>1.90</td>\n",
       "      <td>283.35K</td>\n",
       "      <td>0.00</td>\n",
       "    </tr>\n",
       "  </tbody>\n",
       "</table>\n",
       "<p>1357 rows × 7 columns</p>\n",
       "</div>"
      ],
      "text/plain": [
       "              Date  Price(in dollars)    Open    High     Low     Vol.  \\\n",
       "0     Jul 27, 2021             303.29  304.31  307.62  298.53    2.26M   \n",
       "1     Jul 26, 2021             304.31  302.60  327.62  301.19    2.86M   \n",
       "2     Jul 25, 2021             302.57  302.55  303.09  292.85    1.25M   \n",
       "3     Jul 24, 2021             303.15  298.91  305.01  296.16    1.81M   \n",
       "4     Jul 23, 2021             298.89  293.51  301.15  281.68    1.98M   \n",
       "...            ...                ...     ...     ...     ...      ...   \n",
       "1352  Nov 13, 2017               1.68    1.49    1.74    1.49  166.01K   \n",
       "1353  Nov 12, 2017               1.49    1.66    1.70    1.34  456.48K   \n",
       "1354  Nov 11, 2017               1.66    1.71    1.93    1.58  256.71K   \n",
       "1355  Nov 10, 2017               1.71    1.99    2.02    1.60  483.23K   \n",
       "1356  Nov 09, 2017               1.99    1.99    2.20    1.90  283.35K   \n",
       "\n",
       "      Change%  \n",
       "0       -0.33  \n",
       "1        0.58  \n",
       "2       -0.19  \n",
       "3        1.42  \n",
       "4        1.83  \n",
       "...       ...  \n",
       "1352    12.75  \n",
       "1353   -10.24  \n",
       "1354    -2.92  \n",
       "1355   -14.07  \n",
       "1356     0.00  \n",
       "\n",
       "[1357 rows x 7 columns]"
      ]
     },
     "execution_count": 7,
     "metadata": {},
     "output_type": "execute_result"
    }
   ],
   "source": [
    "dft"
   ]
  },
  {
   "cell_type": "code",
   "execution_count": 8,
   "metadata": {},
   "outputs": [],
   "source": [
    "df1 = dft.set_index('Date')"
   ]
  },
  {
   "cell_type": "code",
   "execution_count": 9,
   "metadata": {},
   "outputs": [],
   "source": [
    "df=df1.iloc[::-1]"
   ]
  },
  {
   "cell_type": "code",
   "execution_count": 10,
   "metadata": {},
   "outputs": [
    {
     "data": {
      "text/html": [
       "<div>\n",
       "<style scoped>\n",
       "    .dataframe tbody tr th:only-of-type {\n",
       "        vertical-align: middle;\n",
       "    }\n",
       "\n",
       "    .dataframe tbody tr th {\n",
       "        vertical-align: top;\n",
       "    }\n",
       "\n",
       "    .dataframe thead th {\n",
       "        text-align: right;\n",
       "    }\n",
       "</style>\n",
       "<table border=\"1\" class=\"dataframe\">\n",
       "  <thead>\n",
       "    <tr style=\"text-align: right;\">\n",
       "      <th></th>\n",
       "      <th>Price(in dollars)</th>\n",
       "      <th>Open</th>\n",
       "      <th>High</th>\n",
       "      <th>Low</th>\n",
       "      <th>Vol.</th>\n",
       "      <th>Change%</th>\n",
       "    </tr>\n",
       "    <tr>\n",
       "      <th>Date</th>\n",
       "      <th></th>\n",
       "      <th></th>\n",
       "      <th></th>\n",
       "      <th></th>\n",
       "      <th></th>\n",
       "      <th></th>\n",
       "    </tr>\n",
       "  </thead>\n",
       "  <tbody>\n",
       "    <tr>\n",
       "      <th>Nov 09, 2017</th>\n",
       "      <td>1.99</td>\n",
       "      <td>1.99</td>\n",
       "      <td>2.20</td>\n",
       "      <td>1.90</td>\n",
       "      <td>283.35K</td>\n",
       "      <td>0.00</td>\n",
       "    </tr>\n",
       "    <tr>\n",
       "      <th>Nov 10, 2017</th>\n",
       "      <td>1.71</td>\n",
       "      <td>1.99</td>\n",
       "      <td>2.02</td>\n",
       "      <td>1.60</td>\n",
       "      <td>483.23K</td>\n",
       "      <td>-14.07</td>\n",
       "    </tr>\n",
       "    <tr>\n",
       "      <th>Nov 11, 2017</th>\n",
       "      <td>1.66</td>\n",
       "      <td>1.71</td>\n",
       "      <td>1.93</td>\n",
       "      <td>1.58</td>\n",
       "      <td>256.71K</td>\n",
       "      <td>-2.92</td>\n",
       "    </tr>\n",
       "    <tr>\n",
       "      <th>Nov 12, 2017</th>\n",
       "      <td>1.49</td>\n",
       "      <td>1.66</td>\n",
       "      <td>1.70</td>\n",
       "      <td>1.34</td>\n",
       "      <td>456.48K</td>\n",
       "      <td>-10.24</td>\n",
       "    </tr>\n",
       "    <tr>\n",
       "      <th>Nov 13, 2017</th>\n",
       "      <td>1.68</td>\n",
       "      <td>1.49</td>\n",
       "      <td>1.74</td>\n",
       "      <td>1.49</td>\n",
       "      <td>166.01K</td>\n",
       "      <td>12.75</td>\n",
       "    </tr>\n",
       "    <tr>\n",
       "      <th>...</th>\n",
       "      <td>...</td>\n",
       "      <td>...</td>\n",
       "      <td>...</td>\n",
       "      <td>...</td>\n",
       "      <td>...</td>\n",
       "      <td>...</td>\n",
       "    </tr>\n",
       "    <tr>\n",
       "      <th>Jul 23, 2021</th>\n",
       "      <td>298.89</td>\n",
       "      <td>293.51</td>\n",
       "      <td>301.15</td>\n",
       "      <td>281.68</td>\n",
       "      <td>1.98M</td>\n",
       "      <td>1.83</td>\n",
       "    </tr>\n",
       "    <tr>\n",
       "      <th>Jul 24, 2021</th>\n",
       "      <td>303.15</td>\n",
       "      <td>298.91</td>\n",
       "      <td>305.01</td>\n",
       "      <td>296.16</td>\n",
       "      <td>1.81M</td>\n",
       "      <td>1.42</td>\n",
       "    </tr>\n",
       "    <tr>\n",
       "      <th>Jul 25, 2021</th>\n",
       "      <td>302.57</td>\n",
       "      <td>302.55</td>\n",
       "      <td>303.09</td>\n",
       "      <td>292.85</td>\n",
       "      <td>1.25M</td>\n",
       "      <td>-0.19</td>\n",
       "    </tr>\n",
       "    <tr>\n",
       "      <th>Jul 26, 2021</th>\n",
       "      <td>304.31</td>\n",
       "      <td>302.60</td>\n",
       "      <td>327.62</td>\n",
       "      <td>301.19</td>\n",
       "      <td>2.86M</td>\n",
       "      <td>0.58</td>\n",
       "    </tr>\n",
       "    <tr>\n",
       "      <th>Jul 27, 2021</th>\n",
       "      <td>303.29</td>\n",
       "      <td>304.31</td>\n",
       "      <td>307.62</td>\n",
       "      <td>298.53</td>\n",
       "      <td>2.26M</td>\n",
       "      <td>-0.33</td>\n",
       "    </tr>\n",
       "  </tbody>\n",
       "</table>\n",
       "<p>1357 rows × 6 columns</p>\n",
       "</div>"
      ],
      "text/plain": [
       "              Price(in dollars)    Open    High     Low     Vol.  Change%\n",
       "Date                                                                     \n",
       "Nov 09, 2017               1.99    1.99    2.20    1.90  283.35K     0.00\n",
       "Nov 10, 2017               1.71    1.99    2.02    1.60  483.23K   -14.07\n",
       "Nov 11, 2017               1.66    1.71    1.93    1.58  256.71K    -2.92\n",
       "Nov 12, 2017               1.49    1.66    1.70    1.34  456.48K   -10.24\n",
       "Nov 13, 2017               1.68    1.49    1.74    1.49  166.01K    12.75\n",
       "...                         ...     ...     ...     ...      ...      ...\n",
       "Jul 23, 2021             298.89  293.51  301.15  281.68    1.98M     1.83\n",
       "Jul 24, 2021             303.15  298.91  305.01  296.16    1.81M     1.42\n",
       "Jul 25, 2021             302.57  302.55  303.09  292.85    1.25M    -0.19\n",
       "Jul 26, 2021             304.31  302.60  327.62  301.19    2.86M     0.58\n",
       "Jul 27, 2021             303.29  304.31  307.62  298.53    2.26M    -0.33\n",
       "\n",
       "[1357 rows x 6 columns]"
      ]
     },
     "execution_count": 10,
     "metadata": {},
     "output_type": "execute_result"
    }
   ],
   "source": [
    "df"
   ]
  },
  {
   "cell_type": "code",
   "execution_count": 11,
   "metadata": {},
   "outputs": [
    {
     "data": {
      "text/html": [
       "<div>\n",
       "<style scoped>\n",
       "    .dataframe tbody tr th:only-of-type {\n",
       "        vertical-align: middle;\n",
       "    }\n",
       "\n",
       "    .dataframe tbody tr th {\n",
       "        vertical-align: top;\n",
       "    }\n",
       "\n",
       "    .dataframe thead th {\n",
       "        text-align: right;\n",
       "    }\n",
       "</style>\n",
       "<table border=\"1\" class=\"dataframe\">\n",
       "  <thead>\n",
       "    <tr style=\"text-align: right;\">\n",
       "      <th></th>\n",
       "      <th>Price(in dollars)</th>\n",
       "      <th>Open</th>\n",
       "      <th>High</th>\n",
       "      <th>Low</th>\n",
       "      <th>Change%</th>\n",
       "    </tr>\n",
       "  </thead>\n",
       "  <tbody>\n",
       "    <tr>\n",
       "      <th>count</th>\n",
       "      <td>1357.000000</td>\n",
       "      <td>1357.000000</td>\n",
       "      <td>1357.000000</td>\n",
       "      <td>1357.000000</td>\n",
       "      <td>1357.000000</td>\n",
       "    </tr>\n",
       "    <tr>\n",
       "      <th>mean</th>\n",
       "      <td>60.086728</td>\n",
       "      <td>59.867833</td>\n",
       "      <td>62.954245</td>\n",
       "      <td>56.603434</td>\n",
       "      <td>0.593206</td>\n",
       "    </tr>\n",
       "    <tr>\n",
       "      <th>std</th>\n",
       "      <td>121.888722</td>\n",
       "      <td>121.715871</td>\n",
       "      <td>128.359292</td>\n",
       "      <td>114.574371</td>\n",
       "      <td>6.841432</td>\n",
       "    </tr>\n",
       "    <tr>\n",
       "      <th>min</th>\n",
       "      <td>1.490000</td>\n",
       "      <td>1.490000</td>\n",
       "      <td>1.580000</td>\n",
       "      <td>1.340000</td>\n",
       "      <td>-44.080000</td>\n",
       "    </tr>\n",
       "    <tr>\n",
       "      <th>25%</th>\n",
       "      <td>12.090000</td>\n",
       "      <td>12.080000</td>\n",
       "      <td>12.440000</td>\n",
       "      <td>11.320000</td>\n",
       "      <td>-2.410000</td>\n",
       "    </tr>\n",
       "    <tr>\n",
       "      <th>50%</th>\n",
       "      <td>17.110000</td>\n",
       "      <td>17.080000</td>\n",
       "      <td>17.540000</td>\n",
       "      <td>16.440000</td>\n",
       "      <td>0.160000</td>\n",
       "    </tr>\n",
       "    <tr>\n",
       "      <th>75%</th>\n",
       "      <td>28.800000</td>\n",
       "      <td>28.770000</td>\n",
       "      <td>29.450000</td>\n",
       "      <td>27.830000</td>\n",
       "      <td>3.050000</td>\n",
       "    </tr>\n",
       "    <tr>\n",
       "      <th>max</th>\n",
       "      <td>676.560000</td>\n",
       "      <td>676.250000</td>\n",
       "      <td>690.870000</td>\n",
       "      <td>631.440000</td>\n",
       "      <td>69.990000</td>\n",
       "    </tr>\n",
       "  </tbody>\n",
       "</table>\n",
       "</div>"
      ],
      "text/plain": [
       "       Price(in dollars)         Open         High          Low      Change%\n",
       "count        1357.000000  1357.000000  1357.000000  1357.000000  1357.000000\n",
       "mean           60.086728    59.867833    62.954245    56.603434     0.593206\n",
       "std           121.888722   121.715871   128.359292   114.574371     6.841432\n",
       "min             1.490000     1.490000     1.580000     1.340000   -44.080000\n",
       "25%            12.090000    12.080000    12.440000    11.320000    -2.410000\n",
       "50%            17.110000    17.080000    17.540000    16.440000     0.160000\n",
       "75%            28.800000    28.770000    29.450000    27.830000     3.050000\n",
       "max           676.560000   676.250000   690.870000   631.440000    69.990000"
      ]
     },
     "execution_count": 11,
     "metadata": {},
     "output_type": "execute_result"
    }
   ],
   "source": [
    "df.describe()"
   ]
  },
  {
   "cell_type": "markdown",
   "metadata": {},
   "source": [
    "### Data Preprocessing"
   ]
  },
  {
   "cell_type": "code",
   "execution_count": 12,
   "metadata": {},
   "outputs": [
    {
     "data": {
      "text/plain": [
       "Price(in dollars)    False\n",
       "Open                 False\n",
       "High                 False\n",
       "Low                  False\n",
       "Vol.                 False\n",
       "Change%              False\n",
       "dtype: bool"
      ]
     },
     "execution_count": 12,
     "metadata": {},
     "output_type": "execute_result"
    }
   ],
   "source": [
    "df.isna().any()"
   ]
  },
  {
   "cell_type": "code",
   "execution_count": 13,
   "metadata": {},
   "outputs": [
    {
     "data": {
      "text/plain": [
       "Price(in dollars)    0\n",
       "Open                 0\n",
       "High                 0\n",
       "Low                  0\n",
       "Vol.                 0\n",
       "Change%              0\n",
       "dtype: int64"
      ]
     },
     "execution_count": 13,
     "metadata": {},
     "output_type": "execute_result"
    }
   ],
   "source": [
    "df.isna().sum()"
   ]
  },
  {
   "cell_type": "code",
   "execution_count": 14,
   "metadata": {},
   "outputs": [
    {
     "name": "stdout",
     "output_type": "stream",
     "text": [
      "<class 'pandas.core.frame.DataFrame'>\n",
      "Index: 1357 entries, Nov 09, 2017 to Jul 27, 2021\n",
      "Data columns (total 6 columns):\n",
      " #   Column             Non-Null Count  Dtype  \n",
      "---  ------             --------------  -----  \n",
      " 0   Price(in dollars)  1357 non-null   float64\n",
      " 1   Open               1357 non-null   float64\n",
      " 2   High               1357 non-null   float64\n",
      " 3   Low                1357 non-null   float64\n",
      " 4   Vol.               1357 non-null   object \n",
      " 5   Change%            1357 non-null   float64\n",
      "dtypes: float64(5), object(1)\n",
      "memory usage: 74.2+ KB\n"
     ]
    }
   ],
   "source": [
    "df.info()"
   ]
  },
  {
   "cell_type": "code",
   "execution_count": 15,
   "metadata": {},
   "outputs": [
    {
     "data": {
      "text/html": [
       "<div>\n",
       "<style scoped>\n",
       "    .dataframe tbody tr th:only-of-type {\n",
       "        vertical-align: middle;\n",
       "    }\n",
       "\n",
       "    .dataframe tbody tr th {\n",
       "        vertical-align: top;\n",
       "    }\n",
       "\n",
       "    .dataframe thead th {\n",
       "        text-align: right;\n",
       "    }\n",
       "</style>\n",
       "<table border=\"1\" class=\"dataframe\">\n",
       "  <thead>\n",
       "    <tr style=\"text-align: right;\">\n",
       "      <th></th>\n",
       "      <th>Price(in dollars)</th>\n",
       "      <th>Open</th>\n",
       "      <th>High</th>\n",
       "      <th>Low</th>\n",
       "      <th>Change%</th>\n",
       "    </tr>\n",
       "  </thead>\n",
       "  <tbody>\n",
       "    <tr>\n",
       "      <th>count</th>\n",
       "      <td>1357.000000</td>\n",
       "      <td>1357.000000</td>\n",
       "      <td>1357.000000</td>\n",
       "      <td>1357.000000</td>\n",
       "      <td>1357.000000</td>\n",
       "    </tr>\n",
       "    <tr>\n",
       "      <th>mean</th>\n",
       "      <td>60.086728</td>\n",
       "      <td>59.867833</td>\n",
       "      <td>62.954245</td>\n",
       "      <td>56.603434</td>\n",
       "      <td>0.593206</td>\n",
       "    </tr>\n",
       "    <tr>\n",
       "      <th>std</th>\n",
       "      <td>121.888722</td>\n",
       "      <td>121.715871</td>\n",
       "      <td>128.359292</td>\n",
       "      <td>114.574371</td>\n",
       "      <td>6.841432</td>\n",
       "    </tr>\n",
       "    <tr>\n",
       "      <th>min</th>\n",
       "      <td>1.490000</td>\n",
       "      <td>1.490000</td>\n",
       "      <td>1.580000</td>\n",
       "      <td>1.340000</td>\n",
       "      <td>-44.080000</td>\n",
       "    </tr>\n",
       "    <tr>\n",
       "      <th>25%</th>\n",
       "      <td>12.090000</td>\n",
       "      <td>12.080000</td>\n",
       "      <td>12.440000</td>\n",
       "      <td>11.320000</td>\n",
       "      <td>-2.410000</td>\n",
       "    </tr>\n",
       "    <tr>\n",
       "      <th>50%</th>\n",
       "      <td>17.110000</td>\n",
       "      <td>17.080000</td>\n",
       "      <td>17.540000</td>\n",
       "      <td>16.440000</td>\n",
       "      <td>0.160000</td>\n",
       "    </tr>\n",
       "    <tr>\n",
       "      <th>75%</th>\n",
       "      <td>28.800000</td>\n",
       "      <td>28.770000</td>\n",
       "      <td>29.450000</td>\n",
       "      <td>27.830000</td>\n",
       "      <td>3.050000</td>\n",
       "    </tr>\n",
       "    <tr>\n",
       "      <th>max</th>\n",
       "      <td>676.560000</td>\n",
       "      <td>676.250000</td>\n",
       "      <td>690.870000</td>\n",
       "      <td>631.440000</td>\n",
       "      <td>69.990000</td>\n",
       "    </tr>\n",
       "  </tbody>\n",
       "</table>\n",
       "</div>"
      ],
      "text/plain": [
       "       Price(in dollars)         Open         High          Low      Change%\n",
       "count        1357.000000  1357.000000  1357.000000  1357.000000  1357.000000\n",
       "mean           60.086728    59.867833    62.954245    56.603434     0.593206\n",
       "std           121.888722   121.715871   128.359292   114.574371     6.841432\n",
       "min             1.490000     1.490000     1.580000     1.340000   -44.080000\n",
       "25%            12.090000    12.080000    12.440000    11.320000    -2.410000\n",
       "50%            17.110000    17.080000    17.540000    16.440000     0.160000\n",
       "75%            28.800000    28.770000    29.450000    27.830000     3.050000\n",
       "max           676.560000   676.250000   690.870000   631.440000    69.990000"
      ]
     },
     "execution_count": 15,
     "metadata": {},
     "output_type": "execute_result"
    }
   ],
   "source": [
    "df.describe()"
   ]
  },
  {
   "cell_type": "code",
   "execution_count": 16,
   "metadata": {},
   "outputs": [
    {
     "data": {
      "text/plain": [
       "Price(in dollars)    0\n",
       "Open                 0\n",
       "High                 0\n",
       "Low                  0\n",
       "Vol.                 0\n",
       "Change%              0\n",
       "dtype: int64"
      ]
     },
     "execution_count": 16,
     "metadata": {},
     "output_type": "execute_result"
    }
   ],
   "source": [
    "df.isna().sum()"
   ]
  },
  {
   "cell_type": "code",
   "execution_count": 17,
   "metadata": {},
   "outputs": [
    {
     "data": {
      "text/plain": [
       "<AxesSubplot:xlabel='Date'>"
      ]
     },
     "execution_count": 17,
     "metadata": {},
     "output_type": "execute_result"
    },
    {
     "data": {
      "image/png": "[encoded data removed]",
      "text/plain": [
       "<Figure size 1152x432 with 1 Axes>"
      ]
     },
     "metadata": {
      "needs_background": "light"
     },
     "output_type": "display_data"
    }
   ],
   "source": [
    "df['Price(in dollars)'].plot(figsize=(16,6))"
   ]
  },
  {
   "cell_type": "code",
   "execution_count": 18,
   "metadata": {},
   "outputs": [
    {
     "data": {
      "text/plain": [
       "(1357, 6)"
      ]
     },
     "execution_count": 18,
     "metadata": {},
     "output_type": "execute_result"
    }
   ],
   "source": [
    "df.shape"
   ]
  },
  {
   "cell_type": "code",
   "execution_count": 19,
   "metadata": {},
   "outputs": [
    {
     "data": {
      "text/html": [
       "<div>\n",
       "<style scoped>\n",
       "    .dataframe tbody tr th:only-of-type {\n",
       "        vertical-align: middle;\n",
       "    }\n",
       "\n",
       "    .dataframe tbody tr th {\n",
       "        vertical-align: top;\n",
       "    }\n",
       "\n",
       "    .dataframe thead th {\n",
       "        text-align: right;\n",
       "    }\n",
       "</style>\n",
       "<table border=\"1\" class=\"dataframe\">\n",
       "  <thead>\n",
       "    <tr style=\"text-align: right;\">\n",
       "      <th></th>\n",
       "      <th>Price(in dollars)</th>\n",
       "      <th>Open</th>\n",
       "      <th>High</th>\n",
       "      <th>Low</th>\n",
       "      <th>Change%</th>\n",
       "    </tr>\n",
       "    <tr>\n",
       "      <th>Date</th>\n",
       "      <th></th>\n",
       "      <th></th>\n",
       "      <th></th>\n",
       "      <th></th>\n",
       "      <th></th>\n",
       "    </tr>\n",
       "  </thead>\n",
       "  <tbody>\n",
       "    <tr>\n",
       "      <th>Nov 09, 2017</th>\n",
       "      <td>NaN</td>\n",
       "      <td>NaN</td>\n",
       "      <td>NaN</td>\n",
       "      <td>NaN</td>\n",
       "      <td>NaN</td>\n",
       "    </tr>\n",
       "    <tr>\n",
       "      <th>Nov 10, 2017</th>\n",
       "      <td>NaN</td>\n",
       "      <td>NaN</td>\n",
       "      <td>NaN</td>\n",
       "      <td>NaN</td>\n",
       "      <td>NaN</td>\n",
       "    </tr>\n",
       "    <tr>\n",
       "      <th>Nov 11, 2017</th>\n",
       "      <td>NaN</td>\n",
       "      <td>NaN</td>\n",
       "      <td>NaN</td>\n",
       "      <td>NaN</td>\n",
       "      <td>NaN</td>\n",
       "    </tr>\n",
       "    <tr>\n",
       "      <th>Nov 12, 2017</th>\n",
       "      <td>NaN</td>\n",
       "      <td>NaN</td>\n",
       "      <td>NaN</td>\n",
       "      <td>NaN</td>\n",
       "      <td>NaN</td>\n",
       "    </tr>\n",
       "    <tr>\n",
       "      <th>Nov 13, 2017</th>\n",
       "      <td>NaN</td>\n",
       "      <td>NaN</td>\n",
       "      <td>NaN</td>\n",
       "      <td>NaN</td>\n",
       "      <td>NaN</td>\n",
       "    </tr>\n",
       "    <tr>\n",
       "      <th>Nov 14, 2017</th>\n",
       "      <td>NaN</td>\n",
       "      <td>NaN</td>\n",
       "      <td>NaN</td>\n",
       "      <td>NaN</td>\n",
       "      <td>NaN</td>\n",
       "    </tr>\n",
       "    <tr>\n",
       "      <th>Nov 15, 2017</th>\n",
       "      <td>1.667143</td>\n",
       "      <td>1.730000</td>\n",
       "      <td>1.858571</td>\n",
       "      <td>1.561429</td>\n",
       "      <td>-3.194286</td>\n",
       "    </tr>\n",
       "    <tr>\n",
       "      <th>Nov 16, 2017</th>\n",
       "      <td>1.605714</td>\n",
       "      <td>1.667143</td>\n",
       "      <td>1.782857</td>\n",
       "      <td>1.505714</td>\n",
       "      <td>-3.101429</td>\n",
       "    </tr>\n",
       "    <tr>\n",
       "      <th>Nov 17, 2017</th>\n",
       "      <td>1.575714</td>\n",
       "      <td>1.605714</td>\n",
       "      <td>1.720000</td>\n",
       "      <td>1.490000</td>\n",
       "      <td>-1.641429</td>\n",
       "    </tr>\n",
       "    <tr>\n",
       "      <th>Nov 18, 2017</th>\n",
       "      <td>1.577143</td>\n",
       "      <td>1.575714</td>\n",
       "      <td>1.682857</td>\n",
       "      <td>1.477143</td>\n",
       "      <td>0.394286</td>\n",
       "    </tr>\n",
       "    <tr>\n",
       "      <th>Nov 19, 2017</th>\n",
       "      <td>1.592857</td>\n",
       "      <td>1.577143</td>\n",
       "      <td>1.681429</td>\n",
       "      <td>1.511429</td>\n",
       "      <td>1.258571</td>\n",
       "    </tr>\n",
       "    <tr>\n",
       "      <th>Nov 20, 2017</th>\n",
       "      <td>1.587143</td>\n",
       "      <td>1.592857</td>\n",
       "      <td>1.668571</td>\n",
       "      <td>1.521429</td>\n",
       "      <td>-0.205714</td>\n",
       "    </tr>\n",
       "    <tr>\n",
       "      <th>Nov 21, 2017</th>\n",
       "      <td>1.587143</td>\n",
       "      <td>1.587143</td>\n",
       "      <td>1.654286</td>\n",
       "      <td>1.522857</td>\n",
       "      <td>0.124286</td>\n",
       "    </tr>\n",
       "    <tr>\n",
       "      <th>Nov 22, 2017</th>\n",
       "      <td>1.597143</td>\n",
       "      <td>1.587143</td>\n",
       "      <td>1.645714</td>\n",
       "      <td>1.532857</td>\n",
       "      <td>0.754286</td>\n",
       "    </tr>\n",
       "    <tr>\n",
       "      <th>Nov 23, 2017</th>\n",
       "      <td>1.598571</td>\n",
       "      <td>1.597143</td>\n",
       "      <td>1.638571</td>\n",
       "      <td>1.537143</td>\n",
       "      <td>0.220000</td>\n",
       "    </tr>\n",
       "    <tr>\n",
       "      <th>Nov 24, 2017</th>\n",
       "      <td>1.631429</td>\n",
       "      <td>1.598571</td>\n",
       "      <td>1.672857</td>\n",
       "      <td>1.544286</td>\n",
       "      <td>2.225714</td>\n",
       "    </tr>\n",
       "    <tr>\n",
       "      <th>Nov 25, 2017</th>\n",
       "      <td>1.660000</td>\n",
       "      <td>1.631429</td>\n",
       "      <td>1.714286</td>\n",
       "      <td>1.571429</td>\n",
       "      <td>1.762857</td>\n",
       "    </tr>\n",
       "    <tr>\n",
       "      <th>Nov 26, 2017</th>\n",
       "      <td>1.694286</td>\n",
       "      <td>1.660000</td>\n",
       "      <td>1.745714</td>\n",
       "      <td>1.597143</td>\n",
       "      <td>2.132857</td>\n",
       "    </tr>\n",
       "    <tr>\n",
       "      <th>Nov 27, 2017</th>\n",
       "      <td>1.738571</td>\n",
       "      <td>1.694286</td>\n",
       "      <td>1.788571</td>\n",
       "      <td>1.622857</td>\n",
       "      <td>2.630000</td>\n",
       "    </tr>\n",
       "    <tr>\n",
       "      <th>Nov 28, 2017</th>\n",
       "      <td>1.785714</td>\n",
       "      <td>1.738571</td>\n",
       "      <td>1.832857</td>\n",
       "      <td>1.660000</td>\n",
       "      <td>2.845714</td>\n",
       "    </tr>\n",
       "  </tbody>\n",
       "</table>\n",
       "</div>"
      ],
      "text/plain": [
       "              Price(in dollars)      Open      High       Low   Change%\n",
       "Date                                                                   \n",
       "Nov 09, 2017                NaN       NaN       NaN       NaN       NaN\n",
       "Nov 10, 2017                NaN       NaN       NaN       NaN       NaN\n",
       "Nov 11, 2017                NaN       NaN       NaN       NaN       NaN\n",
       "Nov 12, 2017                NaN       NaN       NaN       NaN       NaN\n",
       "Nov 13, 2017                NaN       NaN       NaN       NaN       NaN\n",
       "Nov 14, 2017                NaN       NaN       NaN       NaN       NaN\n",
       "Nov 15, 2017           1.667143  1.730000  1.858571  1.561429 -3.194286\n",
       "Nov 16, 2017           1.605714  1.667143  1.782857  1.505714 -3.101429\n",
       "Nov 17, 2017           1.575714  1.605714  1.720000  1.490000 -1.641429\n",
       "Nov 18, 2017           1.577143  1.575714  1.682857  1.477143  0.394286\n",
       "Nov 19, 2017           1.592857  1.577143  1.681429  1.511429  1.258571\n",
       "Nov 20, 2017           1.587143  1.592857  1.668571  1.521429 -0.205714\n",
       "Nov 21, 2017           1.587143  1.587143  1.654286  1.522857  0.124286\n",
       "Nov 22, 2017           1.597143  1.587143  1.645714  1.532857  0.754286\n",
       "Nov 23, 2017           1.598571  1.597143  1.638571  1.537143  0.220000\n",
       "Nov 24, 2017           1.631429  1.598571  1.672857  1.544286  2.225714\n",
       "Nov 25, 2017           1.660000  1.631429  1.714286  1.571429  1.762857\n",
       "Nov 26, 2017           1.694286  1.660000  1.745714  1.597143  2.132857\n",
       "Nov 27, 2017           1.738571  1.694286  1.788571  1.622857  2.630000\n",
       "Nov 28, 2017           1.785714  1.738571  1.832857  1.660000  2.845714"
      ]
     },
     "execution_count": 19,
     "metadata": {},
     "output_type": "execute_result"
    }
   ],
   "source": [
    "#7 Day Roll\n",
    "df.rolling(7).mean().head(20)"
   ]
  },
  {
   "cell_type": "code",
   "execution_count": 20,
   "metadata": {},
   "outputs": [
    {
     "data": {
      "text/plain": [
       "<AxesSubplot:xlabel='Date'>"
      ]
     },
     "execution_count": 20,
     "metadata": {},
     "output_type": "execute_result"
    },
    {
     "data": {
      "image/png": "[encoded data removed]",
      "text/plain": [
       "<Figure size 1152x432 with 1 Axes>"
      ]
     },
     "metadata": {
      "needs_background": "light"
     },
     "output_type": "display_data"
    }
   ],
   "source": [
    "df['Open'].plot(figsize=(16,6))\n",
    "df.rolling(window=30).mean()['Price(in dollars)'].plot()"
   ]
  },
  {
   "cell_type": "code",
   "execution_count": 21,
   "metadata": {},
   "outputs": [
    {
     "name": "stderr",
     "output_type": "stream",
     "text": [
      "<ipython-input-21-7e5fcb2963bb>:1: SettingWithCopyWarning: \n",
      "A value is trying to be set on a copy of a slice from a DataFrame.\n",
      "Try using .loc[row_indexer,col_indexer] = value instead\n",
      "\n",
      "See the caveats in the documentation: https://pandas.pydata.org/pandas-docs/stable/user_guide/indexing.html#returning-a-view-versus-a-copy\n",
      "  df['Price(in dollars): 30 Day Mean'] = df['Price(in dollars)'].rolling(window=30).mean()\n"
     ]
    },
    {
     "data": {
      "text/plain": [
       "<AxesSubplot:xlabel='Date'>"
      ]
     },
     "execution_count": 21,
     "metadata": {},
     "output_type": "execute_result"
    },
    {
     "data": {
      "image/png": "[encoded data removed]",
      "text/plain": [
       "<Figure size 1152x432 with 1 Axes>"
      ]
     },
     "metadata": {
      "needs_background": "light"
     },
     "output_type": "display_data"
    }
   ],
   "source": [
    "df['Price(in dollars): 30 Day Mean'] = df['Price(in dollars)'].rolling(window=30).mean()\n",
    "df[['Price(in dollars)','Price(in dollars): 30 Day Mean']].plot(figsize=(16,6))"
   ]
  },
  {
   "cell_type": "code",
   "execution_count": 22,
   "metadata": {},
   "outputs": [],
   "source": [
    "training_set=df['Price(in dollars)']\n",
    "training_set=pd.DataFrame(training_set)"
   ]
  },
  {
   "cell_type": "code",
   "execution_count": 23,
   "metadata": {},
   "outputs": [
    {
     "data": {
      "text/html": [
       "<div>\n",
       "<style scoped>\n",
       "    .dataframe tbody tr th:only-of-type {\n",
       "        vertical-align: middle;\n",
       "    }\n",
       "\n",
       "    .dataframe tbody tr th {\n",
       "        vertical-align: top;\n",
       "    }\n",
       "\n",
       "    .dataframe thead th {\n",
       "        text-align: right;\n",
       "    }\n",
       "</style>\n",
       "<table border=\"1\" class=\"dataframe\">\n",
       "  <thead>\n",
       "    <tr style=\"text-align: right;\">\n",
       "      <th></th>\n",
       "      <th>Price(in dollars)</th>\n",
       "    </tr>\n",
       "    <tr>\n",
       "      <th>Date</th>\n",
       "      <th></th>\n",
       "    </tr>\n",
       "  </thead>\n",
       "  <tbody>\n",
       "    <tr>\n",
       "      <th>Nov 09, 2017</th>\n",
       "      <td>1.99</td>\n",
       "    </tr>\n",
       "    <tr>\n",
       "      <th>Nov 10, 2017</th>\n",
       "      <td>1.71</td>\n",
       "    </tr>\n",
       "    <tr>\n",
       "      <th>Nov 11, 2017</th>\n",
       "      <td>1.66</td>\n",
       "    </tr>\n",
       "    <tr>\n",
       "      <th>Nov 12, 2017</th>\n",
       "      <td>1.49</td>\n",
       "    </tr>\n",
       "    <tr>\n",
       "      <th>Nov 13, 2017</th>\n",
       "      <td>1.68</td>\n",
       "    </tr>\n",
       "    <tr>\n",
       "      <th>...</th>\n",
       "      <td>...</td>\n",
       "    </tr>\n",
       "    <tr>\n",
       "      <th>Jul 23, 2021</th>\n",
       "      <td>298.89</td>\n",
       "    </tr>\n",
       "    <tr>\n",
       "      <th>Jul 24, 2021</th>\n",
       "      <td>303.15</td>\n",
       "    </tr>\n",
       "    <tr>\n",
       "      <th>Jul 25, 2021</th>\n",
       "      <td>302.57</td>\n",
       "    </tr>\n",
       "    <tr>\n",
       "      <th>Jul 26, 2021</th>\n",
       "      <td>304.31</td>\n",
       "    </tr>\n",
       "    <tr>\n",
       "      <th>Jul 27, 2021</th>\n",
       "      <td>303.29</td>\n",
       "    </tr>\n",
       "  </tbody>\n",
       "</table>\n",
       "<p>1357 rows × 1 columns</p>\n",
       "</div>"
      ],
      "text/plain": [
       "              Price(in dollars)\n",
       "Date                           \n",
       "Nov 09, 2017               1.99\n",
       "Nov 10, 2017               1.71\n",
       "Nov 11, 2017               1.66\n",
       "Nov 12, 2017               1.49\n",
       "Nov 13, 2017               1.68\n",
       "...                         ...\n",
       "Jul 23, 2021             298.89\n",
       "Jul 24, 2021             303.15\n",
       "Jul 25, 2021             302.57\n",
       "Jul 26, 2021             304.31\n",
       "Jul 27, 2021             303.29\n",
       "\n",
       "[1357 rows x 1 columns]"
      ]
     },
     "execution_count": 23,
     "metadata": {},
     "output_type": "execute_result"
    }
   ],
   "source": [
    "training_set"
   ]
  },
  {
   "cell_type": "markdown",
   "metadata": {},
   "source": [
    "### Feature Extraction"
   ]
  },
  {
   "cell_type": "code",
   "execution_count": 24,
   "metadata": {},
   "outputs": [],
   "source": [
    "### LSTM are sensitive to the scale of the data. so we apply MinMax scaler "
   ]
  },
  {
   "cell_type": "code",
   "execution_count": 25,
   "metadata": {},
   "outputs": [],
   "source": [
    "#Feature Scalling\n",
    "from sklearn.preprocessing import MinMaxScaler\n",
    "sc = MinMaxScaler(feature_range = (0,1))\n",
    "training_set_scaled = sc.fit_transform(training_set)"
   ]
  },
  {
   "cell_type": "code",
   "execution_count": 26,
   "metadata": {},
   "outputs": [],
   "source": [
    "# Creating a Data Structure with 60 timesteps and 1 output\n",
    "X_train = []\n",
    "y_train = []\n",
    "for i in range(100,1356):\n",
    "    X_train.append(training_set_scaled[i-100:i, 0])\n",
    "    y_train.append(training_set_scaled[i, 0])\n",
    "X_train, y_train = np.array(X_train), np.array(y_train)\n",
    "\n",
    "#Reshaping\n",
    "X_train = np.reshape(X_train, (X_train.shape[0],X_train.shape[1], 1))\n",
    "    \n"
   ]
  },
  {
   "cell_type": "code",
   "execution_count": 27,
   "metadata": {},
   "outputs": [
    {
     "data": {
      "text/plain": [
       "array([[[7.40663931e-04],\n",
       "        [3.25892130e-04],\n",
       "        [2.51825737e-04],\n",
       "        ...,\n",
       "        [1.31393781e-02],\n",
       "        [1.38948553e-02],\n",
       "        [1.43836935e-02]],\n",
       "\n",
       "       [[3.25892130e-04],\n",
       "        [2.51825737e-04],\n",
       "        [0.00000000e+00],\n",
       "        ...,\n",
       "        [1.38948553e-02],\n",
       "        [1.43836935e-02],\n",
       "        [1.50651044e-02]],\n",
       "\n",
       "       [[2.51825737e-04],\n",
       "        [0.00000000e+00],\n",
       "        [2.81452294e-04],\n",
       "        ...,\n",
       "        [1.43836935e-02],\n",
       "        [1.50651044e-02],\n",
       "        [1.35541499e-02]],\n",
       "\n",
       "       ...,\n",
       "\n",
       "       [[8.01131734e-01],\n",
       "        [7.51388745e-01],\n",
       "        [7.60869243e-01],\n",
       "        ...,\n",
       "        [4.31940391e-01],\n",
       "        [4.32606989e-01],\n",
       "        [4.40546906e-01]],\n",
       "\n",
       "       [[7.51388745e-01],\n",
       "        [7.60869243e-01],\n",
       "        [7.10933681e-01],\n",
       "        ...,\n",
       "        [4.32606989e-01],\n",
       "        [4.40546906e-01],\n",
       "        [4.46857363e-01]],\n",
       "\n",
       "       [[7.60869243e-01],\n",
       "        [7.10933681e-01],\n",
       "        [7.44337624e-01],\n",
       "        ...,\n",
       "        [4.40546906e-01],\n",
       "        [4.46857363e-01],\n",
       "        [4.45998193e-01]]])"
      ]
     },
     "execution_count": 27,
     "metadata": {},
     "output_type": "execute_result"
    }
   ],
   "source": [
    "X_train"
   ]
  },
  {
   "cell_type": "code",
   "execution_count": 28,
   "metadata": {},
   "outputs": [
    {
     "data": {
      "text/plain": [
       "array([0.0150651 , 0.01355415, 0.01417631, ..., 0.44685736, 0.44599819,\n",
       "       0.4485757 ])"
      ]
     },
     "execution_count": 28,
     "metadata": {},
     "output_type": "execute_result"
    }
   ],
   "source": [
    "y_train"
   ]
  },
  {
   "cell_type": "markdown",
   "metadata": {},
   "source": [
    "### Model Building"
   ]
  },
  {
   "cell_type": "code",
   "execution_count": 29,
   "metadata": {},
   "outputs": [],
   "source": [
    "### Create the Stacked(one after another layer) LSTM model\n",
    "from tensorflow.keras.models import Sequential ##Linear Stack of Layers\n",
    "from tensorflow.keras.layers import Dense ##Deeply connected Neural Network Layer (Matrix Vector Multiplication)\n",
    "from tensorflow.keras.layers import LSTM ## Long Short Term Memory\n",
    "from keras.layers import Dropout"
   ]
  },
  {
   "cell_type": "code",
   "execution_count": null,
   "metadata": {},
   "outputs": [],
   "source": []
  },
  {
   "cell_type": "markdown",
   "metadata": {},
   "source": [
    "### Training Neural Network"
   ]
  },
  {
   "cell_type": "code",
   "execution_count": 30,
   "metadata": {},
   "outputs": [],
   "source": [
    "model=Sequential()\n",
    "model.add(LSTM(50,return_sequences=True,input_shape=(100,1)))\n",
    "model.add(LSTM(50,return_sequences=True))\n",
    "model.add(LSTM(50))\n",
    "model.add(Dense(1))\n",
    "model.compile(loss='mean_squared_error',optimizer='adam')\n",
    "\n"
   ]
  },
  {
   "cell_type": "code",
   "execution_count": 31,
   "metadata": {},
   "outputs": [],
   "source": [
    "#Compilation\n",
    "model.compile(optimizer='adam' ,loss='mean_squared_error') #adam = Adaptive Movement Estimation"
   ]
  },
  {
   "cell_type": "code",
   "execution_count": 32,
   "metadata": {},
   "outputs": [
    {
     "name": "stdout",
     "output_type": "stream",
     "text": [
      "Epoch 1/100\n",
      "40/40 [==============================] - 12s 130ms/step - loss: 0.0104\n",
      "Epoch 2/100\n",
      "40/40 [==============================] - 5s 124ms/step - loss: 0.0023\n",
      "Epoch 3/100\n",
      "40/40 [==============================] - 5s 121ms/step - loss: 0.0025\n",
      "Epoch 4/100\n",
      "40/40 [==============================] - 5s 121ms/step - loss: 0.0019\n",
      "Epoch 5/100\n",
      "40/40 [==============================] - 5s 118ms/step - loss: 0.0020\n",
      "Epoch 6/100\n",
      "40/40 [==============================] - 5s 129ms/step - loss: 0.0014\n",
      "Epoch 7/100\n",
      "40/40 [==============================] - 5s 121ms/step - loss: 0.0014\n",
      "Epoch 8/100\n",
      "40/40 [==============================] - 5s 115ms/step - loss: 0.0011\n",
      "Epoch 9/100\n",
      "40/40 [==============================] - 5s 116ms/step - loss: 0.0011\n",
      "Epoch 10/100\n",
      "40/40 [==============================] - 5s 114ms/step - loss: 0.0014\n",
      "Epoch 11/100\n",
      "40/40 [==============================] - 5s 114ms/step - loss: 7.9914e-04\n",
      "Epoch 12/100\n",
      "40/40 [==============================] - 5s 113ms/step - loss: 5.6537e-04\n",
      "Epoch 13/100\n",
      "40/40 [==============================] - 5s 114ms/step - loss: 8.6757e-04\n",
      "Epoch 14/100\n",
      "40/40 [==============================] - 5s 133ms/step - loss: 7.6794e-04\n",
      "Epoch 15/100\n",
      "40/40 [==============================] - 5s 132ms/step - loss: 8.1293e-04\n",
      "Epoch 16/100\n",
      "40/40 [==============================] - 5s 114ms/step - loss: 6.4490e-04\n",
      "Epoch 17/100\n",
      "40/40 [==============================] - 5s 121ms/step - loss: 9.5127e-04\n",
      "Epoch 18/100\n",
      "40/40 [==============================] - 5s 116ms/step - loss: 9.4080e-04\n",
      "Epoch 19/100\n",
      "40/40 [==============================] - 5s 113ms/step - loss: 9.5413e-04\n",
      "Epoch 20/100\n",
      "40/40 [==============================] - 5s 113ms/step - loss: 5.9392e-04\n",
      "Epoch 21/100\n",
      "40/40 [==============================] - 5s 113ms/step - loss: 5.8274e-04\n",
      "Epoch 22/100\n",
      "40/40 [==============================] - 5s 114ms/step - loss: 8.4829e-04\n",
      "Epoch 23/100\n",
      "40/40 [==============================] - 5s 113ms/step - loss: 6.5510e-04\n",
      "Epoch 24/100\n",
      "40/40 [==============================] - 5s 115ms/step - loss: 5.4842e-04\n",
      "Epoch 25/100\n",
      "40/40 [==============================] - 5s 120ms/step - loss: 5.6376e-04\n",
      "Epoch 26/100\n",
      "40/40 [==============================] - 5s 119ms/step - loss: 7.8661e-04\n",
      "Epoch 27/100\n",
      "40/40 [==============================] - 5s 114ms/step - loss: 5.3420e-04\n",
      "Epoch 28/100\n",
      "40/40 [==============================] - 5s 115ms/step - loss: 3.7505e-04\n",
      "Epoch 29/100\n",
      "40/40 [==============================] - 5s 112ms/step - loss: 6.0087e-04\n",
      "Epoch 30/100\n",
      "40/40 [==============================] - 5s 115ms/step - loss: 5.3200e-04\n",
      "Epoch 31/100\n",
      "40/40 [==============================] - 5s 120ms/step - loss: 5.2478e-04\n",
      "Epoch 32/100\n",
      "40/40 [==============================] - 5s 116ms/step - loss: 4.4553e-04\n",
      "Epoch 33/100\n",
      "40/40 [==============================] - 4s 112ms/step - loss: 6.9859e-04\n",
      "Epoch 34/100\n",
      "40/40 [==============================] - 4s 111ms/step - loss: 4.4794e-04\n",
      "Epoch 35/100\n",
      "40/40 [==============================] - 4s 112ms/step - loss: 5.6790e-04\n",
      "Epoch 36/100\n",
      "40/40 [==============================] - 5s 114ms/step - loss: 4.7404e-04\n",
      "Epoch 37/100\n",
      "40/40 [==============================] - 7s 180ms/step - loss: 4.1569e-04\n",
      "Epoch 38/100\n",
      "40/40 [==============================] - 6s 154ms/step - loss: 5.2230e-04\n",
      "Epoch 39/100\n",
      "40/40 [==============================] - 5s 121ms/step - loss: 3.4735e-04\n",
      "Epoch 40/100\n",
      "40/40 [==============================] - 5s 117ms/step - loss: 3.7574e-04\n",
      "Epoch 41/100\n",
      "40/40 [==============================] - 5s 122ms/step - loss: 7.4237e-04\n",
      "Epoch 42/100\n",
      "40/40 [==============================] - 4s 112ms/step - loss: 3.4554e-04\n",
      "Epoch 43/100\n",
      "40/40 [==============================] - 4s 112ms/step - loss: 2.6330e-04\n",
      "Epoch 44/100\n",
      "40/40 [==============================] - 5s 114ms/step - loss: 4.5929e-04\n",
      "Epoch 45/100\n",
      "40/40 [==============================] - 5s 113ms/step - loss: 3.4364e-04\n",
      "Epoch 46/100\n",
      "40/40 [==============================] - 5s 113ms/step - loss: 2.9354e-04\n",
      "Epoch 47/100\n",
      "40/40 [==============================] - 4s 112ms/step - loss: 5.1896e-04\n",
      "Epoch 48/100\n",
      "40/40 [==============================] - 5s 113ms/step - loss: 3.9009e-04\n",
      "Epoch 49/100\n",
      "40/40 [==============================] - 4s 112ms/step - loss: 3.5757e-04\n",
      "Epoch 50/100\n",
      "40/40 [==============================] - 5s 113ms/step - loss: 3.7635e-04\n",
      "Epoch 51/100\n",
      "40/40 [==============================] - 4s 113ms/step - loss: 3.5743e-04\n",
      "Epoch 52/100\n",
      "40/40 [==============================] - 4s 113ms/step - loss: 3.5233e-04\n",
      "Epoch 53/100\n",
      "40/40 [==============================] - 5s 116ms/step - loss: 3.3645e-04\n",
      "Epoch 54/100\n",
      "40/40 [==============================] - 5s 115ms/step - loss: 3.2822e-04\n",
      "Epoch 55/100\n",
      "40/40 [==============================] - 4s 112ms/step - loss: 4.9417e-04\n",
      "Epoch 56/100\n",
      "40/40 [==============================] - 4s 112ms/step - loss: 3.4385e-04\n",
      "Epoch 57/100\n",
      "40/40 [==============================] - 4s 112ms/step - loss: 4.2233e-04\n",
      "Epoch 58/100\n",
      "40/40 [==============================] - 4s 112ms/step - loss: 2.9712e-04\n",
      "Epoch 59/100\n",
      "40/40 [==============================] - 5s 112ms/step - loss: 4.4635e-04\n",
      "Epoch 60/100\n",
      "40/40 [==============================] - 5s 113ms/step - loss: 3.4753e-04\n",
      "Epoch 61/100\n",
      "40/40 [==============================] - 4s 111ms/step - loss: 2.7952e-04\n",
      "Epoch 62/100\n",
      "40/40 [==============================] - 4s 111ms/step - loss: 3.9917e-04\n",
      "Epoch 63/100\n",
      "40/40 [==============================] - 4s 112ms/step - loss: 3.9392e-04\n",
      "Epoch 64/100\n",
      "40/40 [==============================] - 4s 111ms/step - loss: 4.3089e-04\n",
      "Epoch 65/100\n",
      "40/40 [==============================] - 4s 111ms/step - loss: 5.2096e-04\n",
      "Epoch 66/100\n",
      "40/40 [==============================] - 4s 112ms/step - loss: 3.3277e-04\n",
      "Epoch 67/100\n",
      "40/40 [==============================] - 4s 111ms/step - loss: 2.4684e-04\n",
      "Epoch 68/100\n",
      "40/40 [==============================] - 4s 111ms/step - loss: 4.6631e-04\n",
      "Epoch 69/100\n",
      "40/40 [==============================] - 5s 116ms/step - loss: 3.6850e-04\n",
      "Epoch 70/100\n",
      "40/40 [==============================] - 5s 116ms/step - loss: 2.9080e-04\n",
      "Epoch 71/100\n",
      "40/40 [==============================] - 5s 126ms/step - loss: 3.1193e-04\n",
      "Epoch 72/100\n",
      "40/40 [==============================] - 5s 136ms/step - loss: 2.8991e-04\n",
      "Epoch 73/100\n",
      "40/40 [==============================] - 5s 137ms/step - loss: 4.6784e-04\n",
      "Epoch 74/100\n",
      "40/40 [==============================] - 6s 140ms/step - loss: 4.5718e-04\n",
      "Epoch 75/100\n",
      "40/40 [==============================] - 6s 141ms/step - loss: 3.2184e-04\n",
      "Epoch 76/100\n",
      "40/40 [==============================] - 6s 152ms/step - loss: 3.0707e-04\n",
      "Epoch 77/100\n",
      "40/40 [==============================] - 6s 155ms/step - loss: 1.8566e-04\n",
      "Epoch 78/100\n",
      "40/40 [==============================] - 6s 158ms/step - loss: 4.6187e-04\n",
      "Epoch 79/100\n",
      "40/40 [==============================] - 6s 154ms/step - loss: 6.2115e-04\n",
      "Epoch 80/100\n",
      "40/40 [==============================] - 6s 154ms/step - loss: 7.3845e-04\n",
      "Epoch 81/100\n",
      "40/40 [==============================] - 6s 146ms/step - loss: 2.5794e-04\n",
      "Epoch 82/100\n",
      "40/40 [==============================] - 6s 148ms/step - loss: 3.2731e-04\n",
      "Epoch 83/100\n",
      "40/40 [==============================] - 6s 143ms/step - loss: 3.4190e-04\n",
      "Epoch 84/100\n",
      "40/40 [==============================] - 6s 143ms/step - loss: 2.8974e-04\n",
      "Epoch 85/100\n",
      "40/40 [==============================] - 5s 130ms/step - loss: 3.0944e-04\n",
      "Epoch 86/100\n",
      "40/40 [==============================] - 5s 129ms/step - loss: 3.5571e-04\n",
      "Epoch 87/100\n",
      "40/40 [==============================] - 5s 113ms/step - loss: 2.6891e-04\n",
      "Epoch 88/100\n",
      "40/40 [==============================] - 5s 112ms/step - loss: 3.2517e-04\n",
      "Epoch 89/100\n",
      "40/40 [==============================] - 5s 113ms/step - loss: 3.2664e-04\n",
      "Epoch 90/100\n",
      "40/40 [==============================] - 4s 112ms/step - loss: 6.0530e-04\n",
      "Epoch 91/100\n",
      "40/40 [==============================] - 4s 111ms/step - loss: 4.5755e-04\n",
      "Epoch 92/100\n",
      "40/40 [==============================] - 4s 111ms/step - loss: 3.4983e-04\n",
      "Epoch 93/100\n",
      "40/40 [==============================] - 4s 112ms/step - loss: 3.3741e-04\n",
      "Epoch 94/100\n",
      "40/40 [==============================] - 5s 113ms/step - loss: 6.1364e-04\n",
      "Epoch 95/100\n",
      "40/40 [==============================] - 4s 112ms/step - loss: 9.2507e-04\n",
      "Epoch 96/100\n",
      "40/40 [==============================] - 4s 111ms/step - loss: 2.5734e-04\n",
      "Epoch 97/100\n",
      "40/40 [==============================] - 5s 113ms/step - loss: 2.5340e-04\n",
      "Epoch 98/100\n",
      "40/40 [==============================] - 4s 112ms/step - loss: 4.0799e-04\n",
      "Epoch 99/100\n",
      "40/40 [==============================] - 4s 112ms/step - loss: 3.7722e-04\n",
      "Epoch 100/100\n",
      "40/40 [==============================] - 5s 115ms/step - loss: 3.5902e-04\n"
     ]
    },
    {
     "data": {
      "text/plain": [
       "<tensorflow.python.keras.callbacks.History at 0x2639a913040>"
      ]
     },
     "execution_count": 32,
     "metadata": {},
     "output_type": "execute_result"
    }
   ],
   "source": [
    "model.fit(X_train,y_train, epochs = 100, batch_size=32)"
   ]
  },
  {
   "cell_type": "code",
   "execution_count": 33,
   "metadata": {},
   "outputs": [],
   "source": [
    "dataset = pd.read_csv('Binance Coin - Historic data.csv',index_col=\"Date\",parse_dates=True)"
   ]
  },
  {
   "cell_type": "code",
   "execution_count": 34,
   "metadata": {},
   "outputs": [],
   "source": [
    "real_crypto_price = dataset.iloc[:,1:2].values"
   ]
  },
  {
   "cell_type": "code",
   "execution_count": 35,
   "metadata": {},
   "outputs": [
    {
     "data": {
      "text/plain": [
       "array([[304.31],\n",
       "       [302.6 ],\n",
       "       [302.55],\n",
       "       ...,\n",
       "       [  1.71],\n",
       "       [  1.99],\n",
       "       [  1.99]])"
      ]
     },
     "execution_count": 35,
     "metadata": {},
     "output_type": "execute_result"
    }
   ],
   "source": [
    "real_crypto_price"
   ]
  },
  {
   "cell_type": "code",
   "execution_count": 36,
   "metadata": {},
   "outputs": [],
   "source": [
    "dataset_test=dataset.iloc[::-1]"
   ]
  },
  {
   "cell_type": "code",
   "execution_count": 37,
   "metadata": {},
   "outputs": [
    {
     "data": {
      "text/html": [
       "<div>\n",
       "<style scoped>\n",
       "    .dataframe tbody tr th:only-of-type {\n",
       "        vertical-align: middle;\n",
       "    }\n",
       "\n",
       "    .dataframe tbody tr th {\n",
       "        vertical-align: top;\n",
       "    }\n",
       "\n",
       "    .dataframe thead th {\n",
       "        text-align: right;\n",
       "    }\n",
       "</style>\n",
       "<table border=\"1\" class=\"dataframe\">\n",
       "  <thead>\n",
       "    <tr style=\"text-align: right;\">\n",
       "      <th></th>\n",
       "      <th>Price(in dollars)</th>\n",
       "      <th>Open</th>\n",
       "      <th>High</th>\n",
       "      <th>Low</th>\n",
       "      <th>Vol.</th>\n",
       "      <th>Change%</th>\n",
       "    </tr>\n",
       "    <tr>\n",
       "      <th>Date</th>\n",
       "      <th></th>\n",
       "      <th></th>\n",
       "      <th></th>\n",
       "      <th></th>\n",
       "      <th></th>\n",
       "      <th></th>\n",
       "    </tr>\n",
       "  </thead>\n",
       "  <tbody>\n",
       "    <tr>\n",
       "      <th>2017-11-09</th>\n",
       "      <td>1.99</td>\n",
       "      <td>1.99</td>\n",
       "      <td>2.20</td>\n",
       "      <td>1.90</td>\n",
       "      <td>283.35K</td>\n",
       "      <td>0.00</td>\n",
       "    </tr>\n",
       "    <tr>\n",
       "      <th>2017-11-10</th>\n",
       "      <td>1.71</td>\n",
       "      <td>1.99</td>\n",
       "      <td>2.02</td>\n",
       "      <td>1.60</td>\n",
       "      <td>483.23K</td>\n",
       "      <td>-14.07</td>\n",
       "    </tr>\n",
       "    <tr>\n",
       "      <th>2017-11-11</th>\n",
       "      <td>1.66</td>\n",
       "      <td>1.71</td>\n",
       "      <td>1.93</td>\n",
       "      <td>1.58</td>\n",
       "      <td>256.71K</td>\n",
       "      <td>-2.92</td>\n",
       "    </tr>\n",
       "    <tr>\n",
       "      <th>2017-11-12</th>\n",
       "      <td>1.49</td>\n",
       "      <td>1.66</td>\n",
       "      <td>1.70</td>\n",
       "      <td>1.34</td>\n",
       "      <td>456.48K</td>\n",
       "      <td>-10.24</td>\n",
       "    </tr>\n",
       "    <tr>\n",
       "      <th>2017-11-13</th>\n",
       "      <td>1.68</td>\n",
       "      <td>1.49</td>\n",
       "      <td>1.74</td>\n",
       "      <td>1.49</td>\n",
       "      <td>166.01K</td>\n",
       "      <td>12.75</td>\n",
       "    </tr>\n",
       "    <tr>\n",
       "      <th>...</th>\n",
       "      <td>...</td>\n",
       "      <td>...</td>\n",
       "      <td>...</td>\n",
       "      <td>...</td>\n",
       "      <td>...</td>\n",
       "      <td>...</td>\n",
       "    </tr>\n",
       "    <tr>\n",
       "      <th>2021-07-23</th>\n",
       "      <td>298.89</td>\n",
       "      <td>293.51</td>\n",
       "      <td>301.15</td>\n",
       "      <td>281.68</td>\n",
       "      <td>1.98M</td>\n",
       "      <td>1.83</td>\n",
       "    </tr>\n",
       "    <tr>\n",
       "      <th>2021-07-24</th>\n",
       "      <td>303.15</td>\n",
       "      <td>298.91</td>\n",
       "      <td>305.01</td>\n",
       "      <td>296.16</td>\n",
       "      <td>1.81M</td>\n",
       "      <td>1.42</td>\n",
       "    </tr>\n",
       "    <tr>\n",
       "      <th>2021-07-25</th>\n",
       "      <td>302.57</td>\n",
       "      <td>302.55</td>\n",
       "      <td>303.09</td>\n",
       "      <td>292.85</td>\n",
       "      <td>1.25M</td>\n",
       "      <td>-0.19</td>\n",
       "    </tr>\n",
       "    <tr>\n",
       "      <th>2021-07-26</th>\n",
       "      <td>304.31</td>\n",
       "      <td>302.60</td>\n",
       "      <td>327.62</td>\n",
       "      <td>301.19</td>\n",
       "      <td>2.86M</td>\n",
       "      <td>0.58</td>\n",
       "    </tr>\n",
       "    <tr>\n",
       "      <th>2021-07-27</th>\n",
       "      <td>303.29</td>\n",
       "      <td>304.31</td>\n",
       "      <td>307.62</td>\n",
       "      <td>298.53</td>\n",
       "      <td>2.26M</td>\n",
       "      <td>-0.33</td>\n",
       "    </tr>\n",
       "  </tbody>\n",
       "</table>\n",
       "<p>1357 rows × 6 columns</p>\n",
       "</div>"
      ],
      "text/plain": [
       "            Price(in dollars)    Open    High     Low     Vol.  Change%\n",
       "Date                                                                   \n",
       "2017-11-09               1.99    1.99    2.20    1.90  283.35K     0.00\n",
       "2017-11-10               1.71    1.99    2.02    1.60  483.23K   -14.07\n",
       "2017-11-11               1.66    1.71    1.93    1.58  256.71K    -2.92\n",
       "2017-11-12               1.49    1.66    1.70    1.34  456.48K   -10.24\n",
       "2017-11-13               1.68    1.49    1.74    1.49  166.01K    12.75\n",
       "...                       ...     ...     ...     ...      ...      ...\n",
       "2021-07-23             298.89  293.51  301.15  281.68    1.98M     1.83\n",
       "2021-07-24             303.15  298.91  305.01  296.16    1.81M     1.42\n",
       "2021-07-25             302.57  302.55  303.09  292.85    1.25M    -0.19\n",
       "2021-07-26             304.31  302.60  327.62  301.19    2.86M     0.58\n",
       "2021-07-27             303.29  304.31  307.62  298.53    2.26M    -0.33\n",
       "\n",
       "[1357 rows x 6 columns]"
      ]
     },
     "execution_count": 37,
     "metadata": {},
     "output_type": "execute_result"
    }
   ],
   "source": [
    "dataset_test"
   ]
  },
  {
   "cell_type": "code",
   "execution_count": 38,
   "metadata": {},
   "outputs": [
    {
     "name": "stdout",
     "output_type": "stream",
     "text": [
      "<class 'pandas.core.frame.DataFrame'>\n",
      "DatetimeIndex: 1357 entries, 2017-11-09 to 2021-07-27\n",
      "Data columns (total 6 columns):\n",
      " #   Column             Non-Null Count  Dtype  \n",
      "---  ------             --------------  -----  \n",
      " 0   Price(in dollars)  1357 non-null   float64\n",
      " 1   Open               1357 non-null   float64\n",
      " 2   High               1357 non-null   float64\n",
      " 3   Low                1357 non-null   float64\n",
      " 4   Vol.               1357 non-null   object \n",
      " 5   Change%            1357 non-null   float64\n",
      "dtypes: float64(5), object(1)\n",
      "memory usage: 74.2+ KB\n"
     ]
    }
   ],
   "source": [
    "dataset_test.info()"
   ]
  },
  {
   "cell_type": "code",
   "execution_count": 39,
   "metadata": {},
   "outputs": [],
   "source": [
    "test_set=dataset_test['Price(in dollars)']\n",
    "test_set=pd.DataFrame(test_set)"
   ]
  },
  {
   "cell_type": "code",
   "execution_count": 40,
   "metadata": {},
   "outputs": [
    {
     "name": "stdout",
     "output_type": "stream",
     "text": [
      "<class 'pandas.core.frame.DataFrame'>\n",
      "DatetimeIndex: 1357 entries, 2017-11-09 to 2021-07-27\n",
      "Data columns (total 1 columns):\n",
      " #   Column             Non-Null Count  Dtype  \n",
      "---  ------             --------------  -----  \n",
      " 0   Price(in dollars)  1357 non-null   float64\n",
      "dtypes: float64(1)\n",
      "memory usage: 21.2 KB\n"
     ]
    }
   ],
   "source": [
    "test_set.info()"
   ]
  },
  {
   "cell_type": "markdown",
   "metadata": {},
   "source": [
    "### Prediction"
   ]
  },
  {
   "cell_type": "code",
   "execution_count": 41,
   "metadata": {},
   "outputs": [
    {
     "name": "stderr",
     "output_type": "stream",
     "text": [
      "2021-08-28 02:32:00.762 WARNING tensorflow: Model was constructed with shape (None, 100, 1) for input KerasTensor(type_spec=TensorSpec(shape=(None, 100, 1), dtype=tf.float32, name='lstm_input'), name='lstm_input', description=\"created by layer 'lstm_input'\"), but it was called on an input with incompatible shape (None, 60, 1).\n"
     ]
    }
   ],
   "source": [
    "##Getting Predicted Stock Price\n",
    "dataset_total = pd.concat((df['Price(in dollars)'],dataset_test['Price(in dollars)']),axis =0)\n",
    "inputs = dataset_total[len(dataset_total) - len(dataset_test) - 100:].values\n",
    "inputs = inputs.reshape(-1,1)\n",
    "inputs = sc.transform(inputs)\n",
    "X_test = []\n",
    "for i in range(100,80):\n",
    "    X_test.append(inputs[i-60:i, 0])\n",
    "X_test = np.array(X_test)\n",
    "X_test =np.reshape(X_test, (X_test.shape[0], X_test.shape[1],1))\n",
    "predicted_stock_price = model.predict(X_test)\n",
    "predicted_stock_price = sc.inverse_transform(predicted_stock_price)\n",
    "                   "
   ]
  },
  {
   "cell_type": "code",
   "execution_count": 42,
   "metadata": {},
   "outputs": [
    {
     "name": "stdout",
     "output_type": "stream",
     "text": [
      "<class 'pandas.core.frame.DataFrame'>\n",
      "RangeIndex: 20 entries, 0 to 19\n",
      "Data columns (total 1 columns):\n",
      " #   Column  Non-Null Count  Dtype  \n",
      "---  ------  --------------  -----  \n",
      " 0   0       20 non-null     float32\n",
      "dtypes: float32(1)\n",
      "memory usage: 208.0 bytes\n"
     ]
    }
   ],
   "source": [
    "predicted_stock_price=pd.DataFrame(predicted_stock_price)\n",
    "predicted_stock_price.info()"
   ]
  },
  {
   "cell_type": "code",
   "execution_count": 43,
   "metadata": {},
   "outputs": [
    {
     "data": {
      "image/png": "[encoded data removed]",
      "text/plain": [
       "<Figure size 432x288 with 1 Axes>"
      ]
     },
     "metadata": {
      "needs_background": "light"
     },
     "output_type": "display_data"
    }
   ],
   "source": [
    "plt.plot(real_crypto_price, color ='red', label ='Binance Current Price')\n",
    "plt.plot(predicted_stock_price, color = 'blue',label = 'Predicted Binance Coin Price')\n",
    "plt.title(\"Binance Coin Prediction\")\n",
    "plt.xlabel('Time')\n",
    "plt.ylabel('Binance Coin Price')\n",
    "plt.legend()\n",
    "plt.show()"
   ]
  },
  {
   "cell_type": "markdown",
   "metadata": {},
   "source": [
    "### Here I am done with Binance Coin Prediction using LSTM , I have also made this using FbProphet"
   ]
  },
  {
   "cell_type": "code",
   "execution_count": null,
   "metadata": {},
   "outputs": [],
   "source": []
  }
 ],
 "metadata": {
  "kernelspec": {
   "display_name": "Python 3",
   "language": "python",
   "name": "python3"
  },
  "language_info": {
   "codemirror_mode": {
    "name": "ipython",
    "version": 3
   },
   "file_extension": ".py",
   "mimetype": "text/x-python",
   "name": "python",
   "nbconvert_exporter": "python",
   "pygments_lexer": "ipython3",
   "version": "3.8.5"
  }
 },
 "nbformat": 4,
 "nbformat_minor": 2
}
